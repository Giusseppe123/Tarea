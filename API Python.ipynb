{
 "cells": [
  {
   "cell_type": "markdown",
   "metadata": {},
   "source": [
    "Paso 1: Instalación de Flask\n",
    "Flask es un framework de micro web que facilita la creación de aplicaciones web en Python. Para instalar Flask, necesitas ejecutar el siguiente comando en una celda de Jupyter Notebook o en tu terminal."
   ]
  },
  {
   "cell_type": "code",
   "execution_count": null,
   "metadata": {},
   "outputs": [],
   "source": [
    "%pip install Flask"
   ]
  },
  {
   "cell_type": "markdown",
   "metadata": {},
   "source": [
    "Paso 2: Crear una Aplicación Básica con Flask\n",
    "Ahora vamos a crear nuestra primera aplicación Flask. Vamos a importar Flask y crear una aplicación básica que responda con \"¡Hola, Mundo!\" cuando accedamos a la página principal."
   ]
  },
  {
   "cell_type": "code",
   "execution_count": null,
   "metadata": {},
   "outputs": [],
   "source": [
    "from flask import Flask  # Importamos la clase Flask del módulo flask\n",
    "\n",
    "# Crear una instancia de la clase Flask\n",
    "# La instancia de Flask será nuestra aplicación web\n",
    "app = Flask(__name__)\n",
    "\n",
    "# Definir una ruta básica (endpoint)\n",
    "# Un endpoint es una URL específica dentro de nuestra aplicación\n",
    "@app.route('/')\n",
    "def home():\n",
    "    # Esta función se llama cuando alguien visita la ruta '/'\n",
    "    return \"¡Hola, Mundo!\"\n",
    "\n",
    "# Ejecutar la aplicación\n",
    "# Esto inicia el servidor web\n",
    "if __name__ == \"__main__\":\n",
    "    app.run(debug=True)"
   ]
  },
  {
   "cell_type": "markdown",
   "metadata": {},
   "source": [
    "Explicación Detallada:\n",
    "from flask import Flask: Importamos la clase Flask del módulo flask. Esta clase es la que nos permitirá crear nuestra aplicación web.\n",
    "app = Flask(__name__): Creamos una instancia de la clase Flask y la almacenamos en la variable app. Esta instancia será nuestra aplicación web.\n",
    "@app.route('/'): Este es un decorador que define una ruta (endpoint) en nuestra aplicación. La ruta '/' corresponde a la página principal.\n",
    "def home(): Definimos una función llamada home que se ejecutará cuando alguien visite la ruta '/'.\n",
    "return \"¡Hola, Mundo!\": Esta función devuelve el texto \"¡Hola, Mundo!\" como respuesta.\n",
    "if __name__ == \"__main__\": app.run(debug=True): Esto se asegura de que el servidor web se ejecute solo si el archivo se está ejecutando directamente (no importado como un módulo). app.run(debug=True) inicia el servidor web en modo de depuración, lo que significa que mostrará mensajes de error detallados si algo sale mal."
   ]
  },
  {
   "cell_type": "markdown",
   "metadata": {},
   "source": [
    "Paso 3: Ejecutar la Aplicación\n",
    "Para ejecutar la aplicación Flask, guarda el código anterior en un archivo llamado app.py y ejecuta el archivo desde la terminal con el comando:"
   ]
  },
  {
   "cell_type": "code",
   "execution_count": null,
   "metadata": {},
   "outputs": [],
   "source": [
    "python app.py"
   ]
  },
  {
   "cell_type": "markdown",
   "metadata": {},
   "source": [
    "Esto iniciará el servidor web en tu máquina local, normalmente en http://127.0.0.1:5000/. Puedes abrir esta URL en tu navegador para ver la salida \"¡Hola, Mundo!\"."
   ]
  },
  {
   "cell_type": "markdown",
   "metadata": {},
   "source": [
    "Paso 4: Añadir Endpoints (Puntos de Entrada)\n",
    "Vamos a añadir más endpoints a nuestra API. Añadiremos un endpoint que devuelva un saludo personalizado basado en un nombre proporcionado en la URL."
   ]
  },
  {
   "cell_type": "code",
   "execution_count": null,
   "metadata": {},
   "outputs": [],
   "source": [
    "from flask import Flask, jsonify  # Importamos jsonify para devolver respuestas JSON\n",
    "\n",
    "app = Flask(__name__)\n",
    "\n",
    "@app.route('/')\n",
    "def home():\n",
    "    return \"¡Hola, Mundo!\"\n",
    "\n",
    "# Definir un nuevo endpoint que acepta un parámetro en la URL\n",
    "@app.route('/saludo/<nombre>', methods=['GET'])\n",
    "def saludo(nombre):\n",
    "    # Esta función devuelve un saludo personalizado en formato JSON\n",
    "    return jsonify({\"message\": f\"¡Hola, {nombre}!\"})\n",
    "\n",
    "if __name__ == \"__main__\":\n",
    "    app.run(debug=True)"
   ]
  },
  {
   "cell_type": "markdown",
   "metadata": {},
   "source": [
    "Explicación Detallada:\n",
    "from flask import jsonify: Importamos la función jsonify del módulo flask. Esta función convierte un diccionario de Python en una respuesta JSON.\n",
    "@app.route('/saludo/<nombre>', methods=['GET']): Definimos un nuevo endpoint que acepta un parámetro en la URL (<nombre>). La ruta /saludo/<nombre> significa que esta función se ejecutará cuando alguien visite una URL como /saludo/Juan.\n",
    "def saludo(nombre): Definimos una función llamada saludo que acepta un parámetro (nombre).\n",
    "return jsonify({\"message\": f\"¡Hola, {nombre}!\"}): La función devuelve un diccionario convertido a JSON, que contiene un saludo personalizado."
   ]
  },
  {
   "cell_type": "markdown",
   "metadata": {},
   "source": [
    "Paso 5: Probar el Endpoint\n",
    "Para probar el nuevo endpoint, inicia el servidor nuevamente y visita http://127.0.0.1:5000/saludo/TuNombre en tu navegador. Deberías ver una respuesta JSON con el mensaje personalizado."
   ]
  },
  {
   "cell_type": "markdown",
   "metadata": {},
   "source": [
    "Paso 6: Añadir Métodos POST\n",
    "Vamos a añadir un endpoint que acepte una solicitud POST. Este endpoint recibirá datos en el cuerpo de la solicitud y los procesará."
   ]
  },
  {
   "cell_type": "code",
   "execution_count": null,
   "metadata": {},
   "outputs": [],
   "source": [
    "from flask import Flask, request, jsonify  # Importamos request para manejar solicitudes\n",
    "\n",
    "app = Flask(__name__)\n",
    "\n",
    "@app.route('/')\n",
    "def home():\n",
    "    return \"¡Hola, Mundo!\"\n",
    "\n",
    "@app.route('/saludo/<nombre>', methods=['GET'])\n",
    "def saludo(nombre):\n",
    "    return jsonify({\"message\": f\"¡Hola, {nombre}!\"})\n",
    "\n",
    "# Definir un nuevo endpoint que acepta solicitudes POST\n",
    "@app.route('/sumar', methods=['POST'])\n",
    "def sumar():\n",
    "    # Obtener datos JSON del cuerpo de la solicitud\n",
    "    data = request.get_json()\n",
    "    num1 = data.get('num1')\n",
    "    num2 = data.get('num2')\n",
    "    resultado = num1 + num2\n",
    "    return jsonify({\"resultado\": resultado})\n",
    "\n",
    "if __name__ == \"__main__\":\n",
    "    app.run(debug=True)"
   ]
  },
  {
   "cell_type": "markdown",
   "metadata": {},
   "source": [
    "Explicación Detallada:\n",
    "from flask import request: Importamos la variable request del módulo flask. Esta variable nos permite acceder a los datos de la solicitud.\n",
    "@app.route('/sumar', methods=['POST']): Definimos un nuevo endpoint que acepta solicitudes POST. La ruta /sumar será usada para realizar sumas.\n",
    "def sumar(): Definimos una función llamada sumar que maneja la lógica de la suma.\n",
    "data = request.get_json(): Obtenemos los datos JSON del cuerpo de la solicitud y los almacenamos en la variable data.\n",
    "num1 = data.get('num1'): Obtenemos el valor asociado a la clave 'num1' del diccionario data.\n",
    "num2 = data.get('num2'): Obtenemos el valor asociado a la clave 'num2' del diccionario data.\n",
    "resultado = num1 + num2: Sumamos los dos números.\n",
    "return jsonify({\"resultado\": resultado}): Devolvemos el resultado de la suma en formato JSON."
   ]
  },
  {
   "cell_type": "markdown",
   "metadata": {},
   "source": [
    "Paso 7: Probar el Endpoint POST\n",
    "Para probar el endpoint POST, puedes usar una herramienta como Postman o cURL. Envía una solicitud POST a http://127.0.0.1:5000/sumar con un cuerpo JSON como el siguiente:"
   ]
  },
  {
   "cell_type": "code",
   "execution_count": null,
   "metadata": {
    "vscode": {
     "languageId": "json"
    }
   },
   "outputs": [],
   "source": [
    "{\n",
    "    \"num1\": 5,\n",
    "    \"num2\": 3\n",
    "}"
   ]
  },
  {
   "cell_type": "markdown",
   "metadata": {},
   "source": [
    "La respuesta debería ser:"
   ]
  },
  {
   "cell_type": "code",
   "execution_count": null,
   "metadata": {
    "vscode": {
     "languageId": "json"
    }
   },
   "outputs": [],
   "source": [
    "{\n",
    "    \"resultado\": 8\n",
    "}"
   ]
  },
  {
   "cell_type": "markdown",
   "metadata": {},
   "source": [
    "Paso 8: Manejar Errores\n",
    "Es importante manejar errores en tu API para proporcionar respuestas claras cuando algo sale mal."
   ]
  },
  {
   "cell_type": "code",
   "execution_count": null,
   "metadata": {},
   "outputs": [],
   "source": [
    "from flask import Flask, request, jsonify\n",
    "\n",
    "app = Flask(__name__)\n",
    "\n",
    "@app.route('/')\n",
    "def home():\n",
    "    return \"¡Hola, Mundo!\"\n",
    "\n",
    "@app.route('/saludo/<nombre>', methods=['GET'])\n",
    "def saludo(nombre):\n",
    "    return jsonify({\"message\": f\"¡Hola, {nombre}!\"})\n",
    "\n",
    "@app.route('/sumar', methods=['POST'])\n",
    "def sumar():\n",
    "    try:\n",
    "        data = request.get_json()\n",
    "        num1 = data.get('num1')\n",
    "        num2 = data.get('num2')\n",
    "        if num1 is None or num2 is None:\n",
    "            raise ValueError(\"Faltan números\")\n",
    "        resultado = num1 + num2\n",
    "        return jsonify({\"resultado\": resultado})\n",
    "    except (ValueError, TypeError) as e:\n",
    "        return jsonify({\"error\": str(e)}), 400\n",
    "\n",
    "if __name__ == \"__main__\":\n",
    "    app.run(debug=True)"
   ]
  },
  {
   "cell_type": "markdown",
   "metadata": {},
   "source": [
    "Explicación Detallada:\n",
    "try: Intentamos ejecutar el bloque de código dentro del try.\n",
    "except (ValueError, TypeError) as e: Si ocurre un ValueError o TypeError, capturamos la excepción y la almacenamos en la variable e.\n",
    "return jsonify({\"error\": str(e)}), 400: Devolvemos un mensaje de error en formato JSON y un código de estado HTTP 400 (solicitud incorrecta)."
   ]
  },
  {
   "cell_type": "markdown",
   "metadata": {},
   "source": [
    "Paso 9: Documentar la API\n",
    "Finalmente, es buena práctica documentar tu API para que otros desarrolladores sepan cómo usarla. Puedes añadir comentarios en tu código y usar herramientas como Swagger para generar documentación automática.\n",
    "\n",
    "Aquí tienes un ejemplo simple de cómo podrías documentar la función de suma:"
   ]
  },
  {
   "cell_type": "code",
   "execution_count": null,
   "metadata": {},
   "outputs": [],
   "source": [
    "@app.route('/sumar', methods=['POST'])\n",
    "def sumar():\n",
    "    \"\"\"\n",
    "    Suma dos números proporcionados en el cuerpo de la solicitud.\n",
    "\n",
    "    Cuerpo de la solicitud:\n",
    "    {\n",
    "        \"num1\": <número>,\n",
    "        \"num2\": <número>\n",
    "    }\n",
    "\n",
    "    Respuesta:\n",
    "    {\n",
    "        \"resultado\": <resultado de la suma>\n",
    "    }\n",
    "\n",
    "    Errores:\n",
    "    {\n",
    "        \"error\": \"Descripción del error\"\n",
    "    }\n",
    "    \"\"\"\n",
    "    try:\n",
    "        data = request.get_json()\n",
    "        num1 = data.get('num1')\n",
    "        num2 = data.get('num2')\n",
    "        if num1 is None or num2 is None:\n",
    "            raise ValueError(\"Faltan números\")\n",
    "        resultado = num1 + num2\n",
    "        return jsonify({\"resultado\": resultado})\n",
    "    except (ValueError, TypeError) as e:\n",
    "        return jsonify({\"error\": str(e)}), 400"
   ]
  },
  {
   "cell_type": "markdown",
   "metadata": {},
   "source": [
    "Explicación Detallada:\n",
    "La cadena de documentación \"\"\" ... \"\"\" proporciona una descripción detallada de lo que hace la función, qué datos espera en la solicitud y qué respuestas puede devolver."
   ]
  },
  {
   "cell_type": "markdown",
   "metadata": {},
   "source": [
    "Esto seria todo, ahora se tiene una API basica en python usando Flask, con endpoints GET y POST, manejo de errores y documentacion basica.Podrias expandir esta API añadiendo mas edpoints y funcionalidad segun tus necesidades."
   ]
  }
 ],
 "metadata": {
  "language_info": {
   "name": "python"
  }
 },
 "nbformat": 4,
 "nbformat_minor": 2
}
