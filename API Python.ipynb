{
 "cells": [
  {
   "cell_type": "markdown",
   "metadata": {},
   "source": [
    "Paso 1: Instalación de Flask\n",
    "Primero, asegúrate de tener Flask instalado. Puedes instalar Flask usando pip. Ejecuta la siguiente celda:"
   ]
  },
  {
   "cell_type": "code",
   "execution_count": null,
   "metadata": {},
   "outputs": [],
   "source": [
    "%pip install Flask"
   ]
  },
  {
   "cell_type": "markdown",
   "metadata": {},
   "source": [
    "Paso 2: Importar Flask y Crear una Aplicación Básica\n",
    "Ahora vamos a importar Flask y crear una aplicación básica. En esta celda inicializaremos nuestra aplicación Flask."
   ]
  },
  {
   "cell_type": "code",
   "execution_count": null,
   "metadata": {},
   "outputs": [],
   "source": [
    "from flask import Flask\n",
    "\n",
    "# Crear una instancia de la clase Flask\n",
    "app = Flask(__name__)\n",
    "\n",
    "# Definir una ruta básica\n",
    "@app.route('/')\n",
    "def home():\n",
    "    return \"¡Hola, Mundo!\"\n",
    "\n",
    "# Ejecutar la aplicación\n",
    "if __name__ == \"__main__\":\n",
    "    app.run(debug=True)"
   ]
  },
  {
   "cell_type": "markdown",
   "metadata": {},
   "source": [
    "Paso 3: Ejecutar la Aplicación\n",
    "Para ejecutar la aplicación Flask, guarda el código anterior en un archivo llamado app.py y ejecuta el archivo desde la terminal con el comando:"
   ]
  },
  {
   "cell_type": "code",
   "execution_count": null,
   "metadata": {},
   "outputs": [],
   "source": [
    "python app.py"
   ]
  },
  {
   "cell_type": "markdown",
   "metadata": {},
   "source": [
    "Esto iniciará el servidor web en tu máquina local, normalmente en http://127.0.0.1:5000/. Puedes abrir esta URL en tu navegador para ver la salida \"¡Hola, Mundo!\"."
   ]
  },
  {
   "cell_type": "markdown",
   "metadata": {},
   "source": [
    "Paso 4: Añadir Endpoints (Puntos de Entrada)\n",
    "Vamos a añadir más endpoints a nuestra API. Añadiremos un endpoint que devuelva un saludo personalizado basado en un nombre proporcionado en la URL."
   ]
  },
  {
   "cell_type": "code",
   "execution_count": null,
   "metadata": {},
   "outputs": [],
   "source": [
    "from flask import Flask, jsonify\n",
    "\n",
    "app = Flask(__name__)\n",
    "\n",
    "@app.route('/')\n",
    "def home():\n",
    "    return \"¡Hola, Mundo!\"\n",
    "\n",
    "@app.route('/saludo/<nombre>', methods=['GET'])\n",
    "def saludo(nombre):\n",
    "    return jsonify({\"message\": f\"¡Hola, {nombre}!\"})\n",
    "\n",
    "if __name__ == \"__main__\":\n",
    "    app.run(debug=True)"
   ]
  },
  {
   "cell_type": "markdown",
   "metadata": {},
   "source": [
    "Paso 5: Probar el Endpoint\n",
    "Para probar el nuevo endpoint, inicia el servidor nuevamente y visita http://127.0.0.1:5000/saludo/TuNombre en tu navegador. Deberías ver una respuesta JSON con el mensaje personalizado."
   ]
  },
  {
   "cell_type": "markdown",
   "metadata": {},
   "source": [
    "Paso 6: Añadir Métodos POST\n",
    "Vamos a añadir un endpoint que acepte una solicitud POST. Este endpoint recibirá datos en el cuerpo de la solicitud y los procesará."
   ]
  },
  {
   "cell_type": "code",
   "execution_count": null,
   "metadata": {},
   "outputs": [],
   "source": [
    "from flask import Flask, request, jsonify\n",
    "\n",
    "app = Flask(__name__)\n",
    "\n",
    "@app.route('/')\n",
    "def home():\n",
    "    return \"¡Hola, Mundo!\"\n",
    "\n",
    "@app.route('/saludo/<nombre>', methods=['GET'])\n",
    "def saludo(nombre):\n",
    "    return jsonify({\"message\": f\"¡Hola, {nombre}!\"})\n",
    "\n",
    "@app.route('/sumar', methods=['POST'])\n",
    "def sumar():\n",
    "    data = request.get_json()\n",
    "    num1 = data.get('num1')\n",
    "    num2 = data.get('num2')\n",
    "    resultado = num1 + num2\n",
    "    return jsonify({\"resultado\": resultado})\n",
    "\n",
    "if __name__ == \"__main__\":\n",
    "    app.run(debug=True)"
   ]
  },
  {
   "cell_type": "markdown",
   "metadata": {},
   "source": [
    "Paso 7: Probar el Endpoint POST\n",
    "Para probar el endpoint POST, puedes usar una herramienta como Postman o cURL. Envía una solicitud POST a http://127.0.0.1:5000/sumar con un cuerpo JSON como el siguiente:"
   ]
  },
  {
   "cell_type": "code",
   "execution_count": null,
   "metadata": {
    "vscode": {
     "languageId": "json"
    }
   },
   "outputs": [],
   "source": [
    "{\n",
    "    \"num1\": 5,\n",
    "    \"num2\": 3\n",
    "}"
   ]
  },
  {
   "cell_type": "markdown",
   "metadata": {},
   "source": [
    "La respuesta debería ser:"
   ]
  },
  {
   "cell_type": "code",
   "execution_count": null,
   "metadata": {
    "vscode": {
     "languageId": "json"
    }
   },
   "outputs": [],
   "source": [
    "{\n",
    "    \"resultado\": 8\n",
    "}"
   ]
  },
  {
   "cell_type": "markdown",
   "metadata": {},
   "source": [
    "Paso 8: Manejar Errores\n",
    "Es importante manejar errores en tu API para proporcionar respuestas claras cuando algo sale mal."
   ]
  },
  {
   "cell_type": "code",
   "execution_count": null,
   "metadata": {},
   "outputs": [],
   "source": [
    "from flask import Flask, request, jsonify\n",
    "\n",
    "app = Flask(__name__)\n",
    "\n",
    "@app.route('/')\n",
    "def home():\n",
    "    return \"¡Hola, Mundo!\"\n",
    "\n",
    "@app.route('/saludo/<nombre>', methods=['GET'])\n",
    "def saludo(nombre):\n",
    "    return jsonify({\"message\": f\"¡Hola, {nombre}!\"})\n",
    "\n",
    "@app.route('/sumar', methods=['POST'])\n",
    "def sumar():\n",
    "    try:\n",
    "        data = request.get_json()\n",
    "        num1 = data.get('num1')\n",
    "        num2 = data.get('num2')\n",
    "        if num1 is None or num2 is None:\n",
    "            raise ValueError(\"Faltan números\")\n",
    "        resultado = num1 + num2\n",
    "        return jsonify({\"resultado\": resultado})\n",
    "    except (ValueError, TypeError) as e:\n",
    "        return jsonify({\"error\": str(e)}), 400\n",
    "\n",
    "if __name__ == \"__main__\":\n",
    "    app.run(debug=True)"
   ]
  },
  {
   "cell_type": "markdown",
   "metadata": {},
   "source": [
    "Paso 9: Documentar la API\n",
    "Finalmente, es buena práctica documentar tu API para que otros desarrolladores sepan cómo usarla. Puedes añadir comentarios en tu código y usar herramientas como Swagger para generar documentación automática.\n",
    "\n",
    "Aquí tienes un ejemplo simple de cómo podrías documentar la función de suma:"
   ]
  },
  {
   "cell_type": "code",
   "execution_count": null,
   "metadata": {},
   "outputs": [],
   "source": [
    "@app.route('/sumar', methods=['POST'])\n",
    "def sumar():\n",
    "    \"\"\"\n",
    "    Suma dos números proporcionados en el cuerpo de la solicitud.\n",
    "\n",
    "    Cuerpo de la solicitud:\n",
    "    {\n",
    "        \"num1\": <número>,\n",
    "        \"num2\": <número>\n",
    "    }\n",
    "\n",
    "    Respuesta:\n",
    "    {\n",
    "        \"resultado\": <resultado de la suma>\n",
    "    }\n",
    "\n",
    "    Errores:\n",
    "    {\n",
    "        \"error\": \"Descripción del error\"\n",
    "    }\n",
    "    \"\"\"\n",
    "    try:\n",
    "        data = request.get_json()\n",
    "        num1 = data.get('num1')\n",
    "        num2 = data.get('num2')\n",
    "        if num1 is None or num2 is None:\n",
    "            raise ValueError(\"Faltan números\")\n",
    "        resultado = num1 + num2\n",
    "        return jsonify({\"resultado\": resultado})\n",
    "    except (ValueError, TypeError) as e:\n",
    "        return jsonify({\"error\": str(e)}), 400"
   ]
  },
  {
   "cell_type": "markdown",
   "metadata": {},
   "source": [
    "Esto seria todo, ahora se tiene una API basica en python usando Flask, con endpoints GET y POST, manejo de errores y documentacion basica.Podrias expandir esta API añadiendo mas edpoints y funcionalidad segun tus necesidades."
   ]
  }
 ],
 "metadata": {
  "language_info": {
   "name": "python"
  }
 },
 "nbformat": 4,
 "nbformat_minor": 2
}
