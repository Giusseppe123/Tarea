{
 "cells": [
  {
   "cell_type": "markdown",
   "metadata": {},
   "source": [
    "Estructura de un Programa en Go\n",
    "Un programa básico en Go tiene la siguiente estructura:"
   ]
  },
  {
   "cell_type": "code",
   "execution_count": null,
   "metadata": {
    "vscode": {
     "languageId": "go"
    }
   },
   "outputs": [],
   "source": [
    "// Declaramos el paquete principal\n",
    "package main\n",
    "\n",
    "// Importamos el paquete \"fmt\" para formatear y mostrar mensajes\n",
    "import \"fmt\"\n",
    "\n",
    "// La función main es el punto de entrada del programa\n",
    "func main() {\n",
    "    // Usamos fmt.Println para imprimir un mensaje en la consola\n",
    "    fmt.Println(\"Hola, Mundo!\")\n",
    "}"
   ]
  },
  {
   "cell_type": "markdown",
   "metadata": {},
   "source": [
    "Sintaxis Básica\n",
    "Variables\n",
    "Las variables en Go se pueden declarar de diferentes maneras:"
   ]
  },
  {
   "cell_type": "code",
   "execution_count": null,
   "metadata": {
    "vscode": {
     "languageId": "go"
    }
   },
   "outputs": [],
   "source": [
    "package main\n",
    "\n",
    "import \"fmt\"\n",
    "\n",
    "func main() {\n",
    "    // Declaración explícita con tipo\n",
    "    var a int = 10\n",
    "    // Declaración implícita (el tipo se infiere automáticamente)\n",
    "    var b = 20\n",
    "    // Declaración corta (solo dentro de funciones)\n",
    "    c := 30\n",
    "\n",
    "    // Imprimimos las variables\n",
    "    fmt.Println(a, b, c)\n",
    "}"
   ]
  },
  {
   "cell_type": "markdown",
   "metadata": {},
   "source": [
    "Constantes\n",
    "Las constantes se declaran usando la palabra clave const y no pueden ser modificadas después de su declaración."
   ]
  },
  {
   "cell_type": "code",
   "execution_count": null,
   "metadata": {
    "vscode": {
     "languageId": "go"
    }
   },
   "outputs": [],
   "source": [
    "package main\n",
    "\n",
    "import \"fmt\"\n",
    "\n",
    "// Declaramos una constante Pi\n",
    "const Pi = 3.14\n",
    "\n",
    "func main() {\n",
    "    // Imprimimos el valor de la constante Pi\n",
    "    fmt.Println(\"El valor de Pi es\", Pi)\n",
    "}"
   ]
  },
  {
   "cell_type": "markdown",
   "metadata": {},
   "source": [
    "Funciones\n",
    "Las funciones en Go se declaran usando la palabra clave func y pueden devolver uno o más valores."
   ]
  },
  {
   "cell_type": "code",
   "execution_count": null,
   "metadata": {
    "vscode": {
     "languageId": "go"
    }
   },
   "outputs": [],
   "source": [
    "package main\n",
    "\n",
    "import \"fmt\"\n",
    "\n",
    "// Declaramos una función que suma dos enteros y devuelve el resultado\n",
    "func suma(a int, b int) int {\n",
    "    return a + b\n",
    "}\n",
    "\n",
    "func main() {\n",
    "    // Llamamos a la función suma y almacenamos el resultado\n",
    "    resultado := suma(5, 3)\n",
    "    // Imprimimos el resultado\n",
    "    fmt.Println(\"La suma es:\", resultado)\n",
    "}"
   ]
  },
  {
   "cell_type": "markdown",
   "metadata": {},
   "source": [
    "Estructuras y Métodos\n",
    "Las estructuras (struct) permiten agrupar datos relacionados, y los métodos se pueden asociar a las estructuras."
   ]
  },
  {
   "cell_type": "code",
   "execution_count": null,
   "metadata": {
    "vscode": {
     "languageId": "go"
    }
   },
   "outputs": [],
   "source": [
    "package main\n",
    "\n",
    "import \"fmt\"\n",
    "\n",
    "// Definimos una estructura Persona con dos campos\n",
    "type Persona struct {\n",
    "    Nombre string\n",
    "    Edad   int\n",
    "}\n",
    "\n",
    "// Definimos un método para la estructura Persona\n",
    "func (p Persona) Saludar() {\n",
    "    fmt.Println(\"Hola, mi nombre es\", p.Nombre)\n",
    "}\n",
    "\n",
    "func main() {\n",
    "    // Creamos una instancia de Persona\n",
    "    persona := Persona{Nombre: \"Juan\", Edad: 30}\n",
    "    // Llamamos al método Saludar\n",
    "    persona.Saludar()\n",
    "}"
   ]
  },
  {
   "cell_type": "markdown",
   "metadata": {},
   "source": [
    "Control de Flujo\n",
    "Go proporciona estructuras de control de flujo como condicionales y bucles."
   ]
  },
  {
   "cell_type": "code",
   "execution_count": null,
   "metadata": {
    "vscode": {
     "languageId": "go"
    }
   },
   "outputs": [],
   "source": [
    "package main\n",
    "\n",
    "import \"fmt\"\n",
    "\n",
    "func main() {\n",
    "    // Condicional if\n",
    "    x := 10\n",
    "    if x > 5 {\n",
    "        fmt.Println(\"x es mayor que 5\")\n",
    "    } else {\n",
    "        fmt.Println(\"x es menor o igual a 5\")\n",
    "    }\n",
    "\n",
    "    // Bucle for\n",
    "    for i := 0; i < 5; i++ {\n",
    "        fmt.Println(i)\n",
    "    }\n",
    "}"
   ]
  },
  {
   "cell_type": "markdown",
   "metadata": {},
   "source": [
    "Concurrencia\n",
    "Go tiene soporte nativo para la concurrencia usando goroutines y canales."
   ]
  },
  {
   "cell_type": "code",
   "execution_count": null,
   "metadata": {
    "vscode": {
     "languageId": "go"
    }
   },
   "outputs": [],
   "source": [
    "package main\n",
    "\n",
    "import (\n",
    "    \"fmt\"\n",
    "    \"time\"\n",
    ")\n",
    "\n",
    "// Definimos una función que imprime números del 1 al 5 con un retraso\n",
    "func imprimirNumeros() {\n",
    "    for i := 1; i <= 5; i++ {\n",
    "        time.Sleep(1 * time.Second)\n",
    "        fmt.Println(i)\n",
    "    }\n",
    "}\n",
    "\n",
    "func main() {\n",
    "    // Ejecutamos la función imprimirNumeros en una goroutine\n",
    "    go imprimirNumeros()\n",
    "    // Imprimimos un mensaje desde la goroutine principal\n",
    "    fmt.Println(\"Hola desde la goroutine principal\")\n",
    "    // Esperamos suficiente tiempo para que la goroutine termine\n",
    "    time.Sleep(6 * time.Second)\n",
    "}"
   ]
  },
  {
   "cell_type": "markdown",
   "metadata": {},
   "source": [
    "Paquetes\n",
    "Go organiza el código en paquetes. Cada programa de Go tiene al menos el paquete main."
   ]
  },
  {
   "cell_type": "code",
   "execution_count": null,
   "metadata": {
    "vscode": {
     "languageId": "go"
    }
   },
   "outputs": [],
   "source": [
    "package main\n",
    "\n",
    "import (\n",
    "    \"fmt\"\n",
    "    \"math\"\n",
    ")\n",
    "\n",
    "func main() {\n",
    "    // Usamos una función del paquete math para calcular la raíz cuadrada\n",
    "    fmt.Println(\"La raíz cuadrada de 16 es\", math.Sqrt(16))\n",
    "}"
   ]
  },
  {
   "cell_type": "markdown",
   "metadata": {},
   "source": [
    "Manejo de Errores\n",
    "Go no usa excepciones, en su lugar, utiliza valores de error."
   ]
  },
  {
   "cell_type": "code",
   "execution_count": null,
   "metadata": {
    "vscode": {
     "languageId": "go"
    }
   },
   "outputs": [],
   "source": [
    "package main\n",
    "\n",
    "import (\n",
    "    \"errors\"\n",
    "    \"fmt\"\n",
    ")\n",
    "\n",
    "// Definimos una función que divide dos números y maneja errores\n",
    "func dividir(a, b float64) (float64, error) {\n",
    "    if b == 0 {\n",
    "        // Retornamos un error si el divisor es cero\n",
    "        return 0, errors.New(\"no se puede dividir por cero\")\n",
    "    }\n",
    "    // Retornamos el resultado de la división y nil como error\n",
    "    return a / b, nil\n",
    "}\n",
    "\n",
    "func main() {\n",
    "    // Intentamos dividir 4 entre 0 y capturamos el resultado y el error\n",
    "    resultado, err := dividir(4, 0)\n",
    "    if err != nil {\n",
    "        // Imprimimos el error si existe\n",
    "        fmt.Println(\"Error:\", err)\n",
    "    } else {\n",
    "        // Imprimimos el resultado si no hay error\n",
    "        fmt.Println(\"El resultado es:\", resultado)\n",
    "    }\n",
    "}"
   ]
  },
  {
   "cell_type": "markdown",
   "metadata": {},
   "source": [
    "Conclusión:\n",
    "Go es un lenguaje poderoso y eficiente, ideal para aplicaciones modernas que requieren rendimiento y concurrencia. Esta guía ofrece una introducción básica, pero hay muchos más conceptos avanzados como interfaces, punteros y manejo avanzado de concurrencia que puedes explorar."
   ]
  }
 ],
 "metadata": {
  "kernelspec": {
   "display_name": "base",
   "language": "python",
   "name": "python3"
  },
  "language_info": {
   "name": "python",
   "version": "3.12.7"
  }
 },
 "nbformat": 4,
 "nbformat_minor": 2
}
