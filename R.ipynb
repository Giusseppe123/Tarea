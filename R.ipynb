{
 "cells": [
  {
   "cell_type": "markdown",
   "metadata": {},
   "source": [
    "Introducción"
   ]
  },
  {
   "cell_type": "markdown",
   "metadata": {},
   "source": [
    "R es un lenguaje de programación y un entorno de software libre para el análisis estadístico y la visualización de datos. R es ampliamente utilizado por estadísticos y científicos de datos para desarrollar software estadístico y realizar análisis de datos."
   ]
  },
  {
   "cell_type": "markdown",
   "metadata": {},
   "source": [
    "Asignación de Variables"
   ]
  },
  {
   "cell_type": "code",
   "execution_count": null,
   "metadata": {
    "vscode": {
     "languageId": "r"
    }
   },
   "outputs": [],
   "source": [
    "# Asignar el valor 42 a la variable x\n",
    "x <- 42\n",
    "print(x)"
   ]
  },
  {
   "cell_type": "markdown",
   "metadata": {},
   "source": [
    "Operaciones Matemáticas"
   ]
  },
  {
   "cell_type": "code",
   "execution_count": null,
   "metadata": {
    "vscode": {
     "languageId": "r"
    }
   },
   "outputs": [],
   "source": [
    "# Sumar dos números\n",
    "suma <- 5 + 3\n",
    "print(suma)\n",
    "\n",
    "# Calcular la raíz cuadrada\n",
    "raiz_cuadrada <- sqrt(16)\n",
    "print(raiz_cuadrada)"
   ]
  },
  {
   "cell_type": "markdown",
   "metadata": {},
   "source": [
    "Creación de Vectores"
   ]
  },
  {
   "cell_type": "code",
   "execution_count": null,
   "metadata": {
    "vscode": {
     "languageId": "r"
    }
   },
   "outputs": [],
   "source": [
    "# Crear un vector de números\n",
    "numeros <- c(1, 2, 3, 4, 5)\n",
    "print(numeros)"
   ]
  },
  {
   "cell_type": "markdown",
   "metadata": {},
   "source": [
    "Funciones\n"
   ]
  },
  {
   "cell_type": "code",
   "execution_count": null,
   "metadata": {
    "vscode": {
     "languageId": "r"
    }
   },
   "outputs": [],
   "source": [
    "# Definir una función que suma dos números\n",
    "suma_dos_numeros <- function(a, b) {\n",
    "  return(a + b)\n",
    "}\n",
    "\n",
    "# Llamar a la función con argumentos\n",
    "resultado <- suma_dos_numeros(10, 15)\n",
    "print(resultado)"
   ]
  },
  {
   "cell_type": "markdown",
   "metadata": {},
   "source": [
    "Manipulación de Datos\n"
   ]
  },
  {
   "cell_type": "code",
   "execution_count": null,
   "metadata": {
    "vscode": {
     "languageId": "r"
    }
   },
   "outputs": [],
   "source": [
    "# Crear un data frame\n",
    "datos <- data.frame(\n",
    "  nombre = c(\"Ana\", \"Juan\", \"María\"),\n",
    "  edad = c(28, 34, 29)\n",
    ")\n",
    "print(datos)\n",
    "\n",
    "# Acceder a una columna\n",
    "print(datos$nombre)\n",
    "\n",
    "# Filtrar filas\n",
    "print(subset(datos, edad > 30))"
   ]
  },
  {
   "cell_type": "markdown",
   "metadata": {},
   "source": [
    "Visualización de Datos\n"
   ]
  },
  {
   "cell_type": "code",
   "execution_count": null,
   "metadata": {
    "vscode": {
     "languageId": "r"
    }
   },
   "outputs": [],
   "source": [
    "# Instalar el paquete ggplot2 para visualización\n",
    "install.packages(\"ggplot2\")\n",
    "library(ggplot2)\n",
    "\n",
    "# Crear un gráfico de dispersión\n",
    "ggplot(data = datos, aes(x = nombre, y = edad)) +\n",
    "  geom_point()"
   ]
  },
  {
   "cell_type": "markdown",
   "metadata": {},
   "source": [
    "Condicionales"
   ]
  },
  {
   "cell_type": "code",
   "execution_count": null,
   "metadata": {
    "vscode": {
     "languageId": "r"
    }
   },
   "outputs": [],
   "source": [
    "# Uso de if-else\n",
    "x <- 10\n",
    "if (x > 5) {\n",
    "  print(\"x es mayor que 5\")\n",
    "} else {\n",
    "  print(\"x es menor o igual a 5\")\n",
    "}"
   ]
  },
  {
   "cell_type": "markdown",
   "metadata": {},
   "source": [
    "Bucles"
   ]
  },
  {
   "cell_type": "code",
   "execution_count": null,
   "metadata": {
    "vscode": {
     "languageId": "r"
    }
   },
   "outputs": [],
   "source": [
    "# Bucle for\n",
    "for (i in 1:5) {\n",
    "  print(i)\n",
    "}\n",
    "\n",
    "# Bucle while\n",
    "i <- 1\n",
    "while (i <= 5) {\n",
    "  print(i)\n",
    "  i <- i + 1\n",
    "}"
   ]
  }
 ],
 "metadata": {
  "language_info": {
   "name": "python"
  }
 },
 "nbformat": 4,
 "nbformat_minor": 2
}
